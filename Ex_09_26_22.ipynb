{
  "cells": [
    {
      "cell_type": "markdown",
      "metadata": {
        "id": "view-in-github",
        "colab_type": "text"
      },
      "source": [
        "<a href=\"https://colab.research.google.com/github/OmamaRawahi/Data-Privacy/blob/main/Ex_09_26_22.ipynb\" target=\"_parent\"><img src=\"https://colab.research.google.com/assets/colab-badge.svg\" alt=\"Open In Colab\"/></a>"
      ]
    },
    {
      "cell_type": "markdown",
      "metadata": {
        "id": "lDRez7LHk0wg"
      },
      "source": [
        "# Data Privacy\n",
        "## In-Class"
      ]
    },
    {
      "cell_type": "code",
      "execution_count": 1,
      "metadata": {
        "id": "jeeK9aSzk0wl",
        "colab": {
          "base_uri": "https://localhost:8080/"
        },
        "outputId": "e3b91846-b85b-4b96-dbd3-6a53f41f2d86"
      },
      "outputs": [
        {
          "output_type": "stream",
          "name": "stderr",
          "text": [
            "<ipython-input-1-c4969c0f00bf>:6: MatplotlibDeprecationWarning: The seaborn styles shipped by Matplotlib are deprecated since 3.6, as they no longer correspond to the styles shipped by seaborn. However, they will remain available as 'seaborn-v0_8-<style>'. Alternatively, directly use the seaborn API instead.\n",
            "  plt.style.use('seaborn-whitegrid')\n"
          ]
        }
      ],
      "source": [
        "# Load the data and libraries\n",
        "import pandas as pd\n",
        "import numpy as np\n",
        "from scipy import stats\n",
        "import matplotlib.pyplot as plt\n",
        "plt.style.use('seaborn-whitegrid')\n",
        "\n",
        "def laplace_mech(v, sensitivity, epsilon):\n",
        "    return v + np.random.laplace(loc=0, scale=sensitivity / epsilon)\n",
        "\n",
        "def pct_error(orig, priv):\n",
        "    return np.abs(orig - priv)/orig * 100.0\n",
        "\n",
        "adult = pd.read_csv('https://github.com/jnear/cs211-data-privacy/raw/master/homework/adult_with_pii.csv')"
      ]
    },
    {
      "cell_type": "code",
      "source": [
        "adult\n"
      ],
      "metadata": {
        "colab": {
          "base_uri": "https://localhost:8080/",
          "height": 813
        },
        "id": "JJSZ5yXci2lS",
        "outputId": "d904c63e-d540-4bf2-ab21-0947d1de6dec"
      },
      "execution_count": 2,
      "outputs": [
        {
          "output_type": "execute_result",
          "data": {
            "text/plain": [
              "                    Name         DOB          SSN    Zip  Age  \\\n",
              "0       Karrie Trusslove    9/7/1967  732-14-6110  64152   39   \n",
              "1       Brandise Tripony    6/7/1988  150-19-2766  61523   50   \n",
              "2          Brenn McNeely    8/6/1991  725-59-9860  95668   38   \n",
              "3            Dorry Poter    4/6/2009  659-57-4974  25503   53   \n",
              "4            Dick Honnan   9/16/1951  220-93-3811  75387   28   \n",
              "...                  ...         ...          ...    ...  ...   \n",
              "32556       Ardyce Golby  10/29/1961  212-61-8338  41328   27   \n",
              "32557      Jean O'Connor   6/28/1952  737-32-2919  94735   40   \n",
              "32558   Reuben Skrzynski    8/9/1966  314-48-0219  49628   58   \n",
              "32559        Caye Biddle   5/19/1978  647-75-3550   8213   22   \n",
              "32560  Hortense Hardesty   5/11/2012  690-42-5638  86153   52   \n",
              "\n",
              "              Workclass  fnlwgt   Education  Education-Num  \\\n",
              "0             State-gov   77516   Bachelors             13   \n",
              "1      Self-emp-not-inc   83311   Bachelors             13   \n",
              "2               Private  215646     HS-grad              9   \n",
              "3               Private  234721        11th              7   \n",
              "4               Private  338409   Bachelors             13   \n",
              "...                 ...     ...         ...            ...   \n",
              "32556           Private  257302  Assoc-acdm             12   \n",
              "32557           Private  154374     HS-grad              9   \n",
              "32558           Private  151910     HS-grad              9   \n",
              "32559           Private  201490     HS-grad              9   \n",
              "32560      Self-emp-inc  287927     HS-grad              9   \n",
              "\n",
              "           Marital Status         Occupation   Relationship   Race     Sex  \\\n",
              "0           Never-married       Adm-clerical  Not-in-family  White    Male   \n",
              "1      Married-civ-spouse    Exec-managerial        Husband  White    Male   \n",
              "2                Divorced  Handlers-cleaners  Not-in-family  White    Male   \n",
              "3      Married-civ-spouse  Handlers-cleaners        Husband  Black    Male   \n",
              "4      Married-civ-spouse     Prof-specialty           Wife  Black  Female   \n",
              "...                   ...                ...            ...    ...     ...   \n",
              "32556  Married-civ-spouse       Tech-support           Wife  White  Female   \n",
              "32557  Married-civ-spouse  Machine-op-inspct        Husband  White    Male   \n",
              "32558             Widowed       Adm-clerical      Unmarried  White  Female   \n",
              "32559       Never-married       Adm-clerical      Own-child  White    Male   \n",
              "32560  Married-civ-spouse    Exec-managerial           Wife  White  Female   \n",
              "\n",
              "       Capital Gain  Capital Loss  Hours per week        Country Target  \n",
              "0              2174             0              40  United-States  <=50K  \n",
              "1                 0             0              13  United-States  <=50K  \n",
              "2                 0             0              40  United-States  <=50K  \n",
              "3                 0             0              40  United-States  <=50K  \n",
              "4                 0             0              40           Cuba  <=50K  \n",
              "...             ...           ...             ...            ...    ...  \n",
              "32556             0             0              38  United-States  <=50K  \n",
              "32557             0             0              40  United-States   >50K  \n",
              "32558             0             0              40  United-States  <=50K  \n",
              "32559             0             0              20  United-States  <=50K  \n",
              "32560         15024             0              40  United-States   >50K  \n",
              "\n",
              "[32561 rows x 19 columns]"
            ],
            "text/html": [
              "\n",
              "  <div id=\"df-e8045d71-b3f9-4329-bc90-99632eaba794\" class=\"colab-df-container\">\n",
              "    <div>\n",
              "<style scoped>\n",
              "    .dataframe tbody tr th:only-of-type {\n",
              "        vertical-align: middle;\n",
              "    }\n",
              "\n",
              "    .dataframe tbody tr th {\n",
              "        vertical-align: top;\n",
              "    }\n",
              "\n",
              "    .dataframe thead th {\n",
              "        text-align: right;\n",
              "    }\n",
              "</style>\n",
              "<table border=\"1\" class=\"dataframe\">\n",
              "  <thead>\n",
              "    <tr style=\"text-align: right;\">\n",
              "      <th></th>\n",
              "      <th>Name</th>\n",
              "      <th>DOB</th>\n",
              "      <th>SSN</th>\n",
              "      <th>Zip</th>\n",
              "      <th>Age</th>\n",
              "      <th>Workclass</th>\n",
              "      <th>fnlwgt</th>\n",
              "      <th>Education</th>\n",
              "      <th>Education-Num</th>\n",
              "      <th>Marital Status</th>\n",
              "      <th>Occupation</th>\n",
              "      <th>Relationship</th>\n",
              "      <th>Race</th>\n",
              "      <th>Sex</th>\n",
              "      <th>Capital Gain</th>\n",
              "      <th>Capital Loss</th>\n",
              "      <th>Hours per week</th>\n",
              "      <th>Country</th>\n",
              "      <th>Target</th>\n",
              "    </tr>\n",
              "  </thead>\n",
              "  <tbody>\n",
              "    <tr>\n",
              "      <th>0</th>\n",
              "      <td>Karrie Trusslove</td>\n",
              "      <td>9/7/1967</td>\n",
              "      <td>732-14-6110</td>\n",
              "      <td>64152</td>\n",
              "      <td>39</td>\n",
              "      <td>State-gov</td>\n",
              "      <td>77516</td>\n",
              "      <td>Bachelors</td>\n",
              "      <td>13</td>\n",
              "      <td>Never-married</td>\n",
              "      <td>Adm-clerical</td>\n",
              "      <td>Not-in-family</td>\n",
              "      <td>White</td>\n",
              "      <td>Male</td>\n",
              "      <td>2174</td>\n",
              "      <td>0</td>\n",
              "      <td>40</td>\n",
              "      <td>United-States</td>\n",
              "      <td>&lt;=50K</td>\n",
              "    </tr>\n",
              "    <tr>\n",
              "      <th>1</th>\n",
              "      <td>Brandise Tripony</td>\n",
              "      <td>6/7/1988</td>\n",
              "      <td>150-19-2766</td>\n",
              "      <td>61523</td>\n",
              "      <td>50</td>\n",
              "      <td>Self-emp-not-inc</td>\n",
              "      <td>83311</td>\n",
              "      <td>Bachelors</td>\n",
              "      <td>13</td>\n",
              "      <td>Married-civ-spouse</td>\n",
              "      <td>Exec-managerial</td>\n",
              "      <td>Husband</td>\n",
              "      <td>White</td>\n",
              "      <td>Male</td>\n",
              "      <td>0</td>\n",
              "      <td>0</td>\n",
              "      <td>13</td>\n",
              "      <td>United-States</td>\n",
              "      <td>&lt;=50K</td>\n",
              "    </tr>\n",
              "    <tr>\n",
              "      <th>2</th>\n",
              "      <td>Brenn McNeely</td>\n",
              "      <td>8/6/1991</td>\n",
              "      <td>725-59-9860</td>\n",
              "      <td>95668</td>\n",
              "      <td>38</td>\n",
              "      <td>Private</td>\n",
              "      <td>215646</td>\n",
              "      <td>HS-grad</td>\n",
              "      <td>9</td>\n",
              "      <td>Divorced</td>\n",
              "      <td>Handlers-cleaners</td>\n",
              "      <td>Not-in-family</td>\n",
              "      <td>White</td>\n",
              "      <td>Male</td>\n",
              "      <td>0</td>\n",
              "      <td>0</td>\n",
              "      <td>40</td>\n",
              "      <td>United-States</td>\n",
              "      <td>&lt;=50K</td>\n",
              "    </tr>\n",
              "    <tr>\n",
              "      <th>3</th>\n",
              "      <td>Dorry Poter</td>\n",
              "      <td>4/6/2009</td>\n",
              "      <td>659-57-4974</td>\n",
              "      <td>25503</td>\n",
              "      <td>53</td>\n",
              "      <td>Private</td>\n",
              "      <td>234721</td>\n",
              "      <td>11th</td>\n",
              "      <td>7</td>\n",
              "      <td>Married-civ-spouse</td>\n",
              "      <td>Handlers-cleaners</td>\n",
              "      <td>Husband</td>\n",
              "      <td>Black</td>\n",
              "      <td>Male</td>\n",
              "      <td>0</td>\n",
              "      <td>0</td>\n",
              "      <td>40</td>\n",
              "      <td>United-States</td>\n",
              "      <td>&lt;=50K</td>\n",
              "    </tr>\n",
              "    <tr>\n",
              "      <th>4</th>\n",
              "      <td>Dick Honnan</td>\n",
              "      <td>9/16/1951</td>\n",
              "      <td>220-93-3811</td>\n",
              "      <td>75387</td>\n",
              "      <td>28</td>\n",
              "      <td>Private</td>\n",
              "      <td>338409</td>\n",
              "      <td>Bachelors</td>\n",
              "      <td>13</td>\n",
              "      <td>Married-civ-spouse</td>\n",
              "      <td>Prof-specialty</td>\n",
              "      <td>Wife</td>\n",
              "      <td>Black</td>\n",
              "      <td>Female</td>\n",
              "      <td>0</td>\n",
              "      <td>0</td>\n",
              "      <td>40</td>\n",
              "      <td>Cuba</td>\n",
              "      <td>&lt;=50K</td>\n",
              "    </tr>\n",
              "    <tr>\n",
              "      <th>...</th>\n",
              "      <td>...</td>\n",
              "      <td>...</td>\n",
              "      <td>...</td>\n",
              "      <td>...</td>\n",
              "      <td>...</td>\n",
              "      <td>...</td>\n",
              "      <td>...</td>\n",
              "      <td>...</td>\n",
              "      <td>...</td>\n",
              "      <td>...</td>\n",
              "      <td>...</td>\n",
              "      <td>...</td>\n",
              "      <td>...</td>\n",
              "      <td>...</td>\n",
              "      <td>...</td>\n",
              "      <td>...</td>\n",
              "      <td>...</td>\n",
              "      <td>...</td>\n",
              "      <td>...</td>\n",
              "    </tr>\n",
              "    <tr>\n",
              "      <th>32556</th>\n",
              "      <td>Ardyce Golby</td>\n",
              "      <td>10/29/1961</td>\n",
              "      <td>212-61-8338</td>\n",
              "      <td>41328</td>\n",
              "      <td>27</td>\n",
              "      <td>Private</td>\n",
              "      <td>257302</td>\n",
              "      <td>Assoc-acdm</td>\n",
              "      <td>12</td>\n",
              "      <td>Married-civ-spouse</td>\n",
              "      <td>Tech-support</td>\n",
              "      <td>Wife</td>\n",
              "      <td>White</td>\n",
              "      <td>Female</td>\n",
              "      <td>0</td>\n",
              "      <td>0</td>\n",
              "      <td>38</td>\n",
              "      <td>United-States</td>\n",
              "      <td>&lt;=50K</td>\n",
              "    </tr>\n",
              "    <tr>\n",
              "      <th>32557</th>\n",
              "      <td>Jean O'Connor</td>\n",
              "      <td>6/28/1952</td>\n",
              "      <td>737-32-2919</td>\n",
              "      <td>94735</td>\n",
              "      <td>40</td>\n",
              "      <td>Private</td>\n",
              "      <td>154374</td>\n",
              "      <td>HS-grad</td>\n",
              "      <td>9</td>\n",
              "      <td>Married-civ-spouse</td>\n",
              "      <td>Machine-op-inspct</td>\n",
              "      <td>Husband</td>\n",
              "      <td>White</td>\n",
              "      <td>Male</td>\n",
              "      <td>0</td>\n",
              "      <td>0</td>\n",
              "      <td>40</td>\n",
              "      <td>United-States</td>\n",
              "      <td>&gt;50K</td>\n",
              "    </tr>\n",
              "    <tr>\n",
              "      <th>32558</th>\n",
              "      <td>Reuben Skrzynski</td>\n",
              "      <td>8/9/1966</td>\n",
              "      <td>314-48-0219</td>\n",
              "      <td>49628</td>\n",
              "      <td>58</td>\n",
              "      <td>Private</td>\n",
              "      <td>151910</td>\n",
              "      <td>HS-grad</td>\n",
              "      <td>9</td>\n",
              "      <td>Widowed</td>\n",
              "      <td>Adm-clerical</td>\n",
              "      <td>Unmarried</td>\n",
              "      <td>White</td>\n",
              "      <td>Female</td>\n",
              "      <td>0</td>\n",
              "      <td>0</td>\n",
              "      <td>40</td>\n",
              "      <td>United-States</td>\n",
              "      <td>&lt;=50K</td>\n",
              "    </tr>\n",
              "    <tr>\n",
              "      <th>32559</th>\n",
              "      <td>Caye Biddle</td>\n",
              "      <td>5/19/1978</td>\n",
              "      <td>647-75-3550</td>\n",
              "      <td>8213</td>\n",
              "      <td>22</td>\n",
              "      <td>Private</td>\n",
              "      <td>201490</td>\n",
              "      <td>HS-grad</td>\n",
              "      <td>9</td>\n",
              "      <td>Never-married</td>\n",
              "      <td>Adm-clerical</td>\n",
              "      <td>Own-child</td>\n",
              "      <td>White</td>\n",
              "      <td>Male</td>\n",
              "      <td>0</td>\n",
              "      <td>0</td>\n",
              "      <td>20</td>\n",
              "      <td>United-States</td>\n",
              "      <td>&lt;=50K</td>\n",
              "    </tr>\n",
              "    <tr>\n",
              "      <th>32560</th>\n",
              "      <td>Hortense Hardesty</td>\n",
              "      <td>5/11/2012</td>\n",
              "      <td>690-42-5638</td>\n",
              "      <td>86153</td>\n",
              "      <td>52</td>\n",
              "      <td>Self-emp-inc</td>\n",
              "      <td>287927</td>\n",
              "      <td>HS-grad</td>\n",
              "      <td>9</td>\n",
              "      <td>Married-civ-spouse</td>\n",
              "      <td>Exec-managerial</td>\n",
              "      <td>Wife</td>\n",
              "      <td>White</td>\n",
              "      <td>Female</td>\n",
              "      <td>15024</td>\n",
              "      <td>0</td>\n",
              "      <td>40</td>\n",
              "      <td>United-States</td>\n",
              "      <td>&gt;50K</td>\n",
              "    </tr>\n",
              "  </tbody>\n",
              "</table>\n",
              "<p>32561 rows × 19 columns</p>\n",
              "</div>\n",
              "    <div class=\"colab-df-buttons\">\n",
              "\n",
              "  <div class=\"colab-df-container\">\n",
              "    <button class=\"colab-df-convert\" onclick=\"convertToInteractive('df-e8045d71-b3f9-4329-bc90-99632eaba794')\"\n",
              "            title=\"Convert this dataframe to an interactive table.\"\n",
              "            style=\"display:none;\">\n",
              "\n",
              "  <svg xmlns=\"http://www.w3.org/2000/svg\" height=\"24px\" viewBox=\"0 -960 960 960\">\n",
              "    <path d=\"M120-120v-720h720v720H120Zm60-500h600v-160H180v160Zm220 220h160v-160H400v160Zm0 220h160v-160H400v160ZM180-400h160v-160H180v160Zm440 0h160v-160H620v160ZM180-180h160v-160H180v160Zm440 0h160v-160H620v160Z\"/>\n",
              "  </svg>\n",
              "    </button>\n",
              "\n",
              "  <style>\n",
              "    .colab-df-container {\n",
              "      display:flex;\n",
              "      gap: 12px;\n",
              "    }\n",
              "\n",
              "    .colab-df-convert {\n",
              "      background-color: #E8F0FE;\n",
              "      border: none;\n",
              "      border-radius: 50%;\n",
              "      cursor: pointer;\n",
              "      display: none;\n",
              "      fill: #1967D2;\n",
              "      height: 32px;\n",
              "      padding: 0 0 0 0;\n",
              "      width: 32px;\n",
              "    }\n",
              "\n",
              "    .colab-df-convert:hover {\n",
              "      background-color: #E2EBFA;\n",
              "      box-shadow: 0px 1px 2px rgba(60, 64, 67, 0.3), 0px 1px 3px 1px rgba(60, 64, 67, 0.15);\n",
              "      fill: #174EA6;\n",
              "    }\n",
              "\n",
              "    .colab-df-buttons div {\n",
              "      margin-bottom: 4px;\n",
              "    }\n",
              "\n",
              "    [theme=dark] .colab-df-convert {\n",
              "      background-color: #3B4455;\n",
              "      fill: #D2E3FC;\n",
              "    }\n",
              "\n",
              "    [theme=dark] .colab-df-convert:hover {\n",
              "      background-color: #434B5C;\n",
              "      box-shadow: 0px 1px 3px 1px rgba(0, 0, 0, 0.15);\n",
              "      filter: drop-shadow(0px 1px 2px rgba(0, 0, 0, 0.3));\n",
              "      fill: #FFFFFF;\n",
              "    }\n",
              "  </style>\n",
              "\n",
              "    <script>\n",
              "      const buttonEl =\n",
              "        document.querySelector('#df-e8045d71-b3f9-4329-bc90-99632eaba794 button.colab-df-convert');\n",
              "      buttonEl.style.display =\n",
              "        google.colab.kernel.accessAllowed ? 'block' : 'none';\n",
              "\n",
              "      async function convertToInteractive(key) {\n",
              "        const element = document.querySelector('#df-e8045d71-b3f9-4329-bc90-99632eaba794');\n",
              "        const dataTable =\n",
              "          await google.colab.kernel.invokeFunction('convertToInteractive',\n",
              "                                                    [key], {});\n",
              "        if (!dataTable) return;\n",
              "\n",
              "        const docLinkHtml = 'Like what you see? Visit the ' +\n",
              "          '<a target=\"_blank\" href=https://colab.research.google.com/notebooks/data_table.ipynb>data table notebook</a>'\n",
              "          + ' to learn more about interactive tables.';\n",
              "        element.innerHTML = '';\n",
              "        dataTable['output_type'] = 'display_data';\n",
              "        await google.colab.output.renderOutput(dataTable, element);\n",
              "        const docLink = document.createElement('div');\n",
              "        docLink.innerHTML = docLinkHtml;\n",
              "        element.appendChild(docLink);\n",
              "      }\n",
              "    </script>\n",
              "  </div>\n",
              "\n",
              "\n",
              "<div id=\"df-351b66ed-9ade-4e43-87d4-54b3d6191e35\">\n",
              "  <button class=\"colab-df-quickchart\" onclick=\"quickchart('df-351b66ed-9ade-4e43-87d4-54b3d6191e35')\"\n",
              "            title=\"Suggest charts\"\n",
              "            style=\"display:none;\">\n",
              "\n",
              "<svg xmlns=\"http://www.w3.org/2000/svg\" height=\"24px\"viewBox=\"0 0 24 24\"\n",
              "     width=\"24px\">\n",
              "    <g>\n",
              "        <path d=\"M19 3H5c-1.1 0-2 .9-2 2v14c0 1.1.9 2 2 2h14c1.1 0 2-.9 2-2V5c0-1.1-.9-2-2-2zM9 17H7v-7h2v7zm4 0h-2V7h2v10zm4 0h-2v-4h2v4z\"/>\n",
              "    </g>\n",
              "</svg>\n",
              "  </button>\n",
              "\n",
              "<style>\n",
              "  .colab-df-quickchart {\n",
              "      --bg-color: #E8F0FE;\n",
              "      --fill-color: #1967D2;\n",
              "      --hover-bg-color: #E2EBFA;\n",
              "      --hover-fill-color: #174EA6;\n",
              "      --disabled-fill-color: #AAA;\n",
              "      --disabled-bg-color: #DDD;\n",
              "  }\n",
              "\n",
              "  [theme=dark] .colab-df-quickchart {\n",
              "      --bg-color: #3B4455;\n",
              "      --fill-color: #D2E3FC;\n",
              "      --hover-bg-color: #434B5C;\n",
              "      --hover-fill-color: #FFFFFF;\n",
              "      --disabled-bg-color: #3B4455;\n",
              "      --disabled-fill-color: #666;\n",
              "  }\n",
              "\n",
              "  .colab-df-quickchart {\n",
              "    background-color: var(--bg-color);\n",
              "    border: none;\n",
              "    border-radius: 50%;\n",
              "    cursor: pointer;\n",
              "    display: none;\n",
              "    fill: var(--fill-color);\n",
              "    height: 32px;\n",
              "    padding: 0;\n",
              "    width: 32px;\n",
              "  }\n",
              "\n",
              "  .colab-df-quickchart:hover {\n",
              "    background-color: var(--hover-bg-color);\n",
              "    box-shadow: 0 1px 2px rgba(60, 64, 67, 0.3), 0 1px 3px 1px rgba(60, 64, 67, 0.15);\n",
              "    fill: var(--button-hover-fill-color);\n",
              "  }\n",
              "\n",
              "  .colab-df-quickchart-complete:disabled,\n",
              "  .colab-df-quickchart-complete:disabled:hover {\n",
              "    background-color: var(--disabled-bg-color);\n",
              "    fill: var(--disabled-fill-color);\n",
              "    box-shadow: none;\n",
              "  }\n",
              "\n",
              "  .colab-df-spinner {\n",
              "    border: 2px solid var(--fill-color);\n",
              "    border-color: transparent;\n",
              "    border-bottom-color: var(--fill-color);\n",
              "    animation:\n",
              "      spin 1s steps(1) infinite;\n",
              "  }\n",
              "\n",
              "  @keyframes spin {\n",
              "    0% {\n",
              "      border-color: transparent;\n",
              "      border-bottom-color: var(--fill-color);\n",
              "      border-left-color: var(--fill-color);\n",
              "    }\n",
              "    20% {\n",
              "      border-color: transparent;\n",
              "      border-left-color: var(--fill-color);\n",
              "      border-top-color: var(--fill-color);\n",
              "    }\n",
              "    30% {\n",
              "      border-color: transparent;\n",
              "      border-left-color: var(--fill-color);\n",
              "      border-top-color: var(--fill-color);\n",
              "      border-right-color: var(--fill-color);\n",
              "    }\n",
              "    40% {\n",
              "      border-color: transparent;\n",
              "      border-right-color: var(--fill-color);\n",
              "      border-top-color: var(--fill-color);\n",
              "    }\n",
              "    60% {\n",
              "      border-color: transparent;\n",
              "      border-right-color: var(--fill-color);\n",
              "    }\n",
              "    80% {\n",
              "      border-color: transparent;\n",
              "      border-right-color: var(--fill-color);\n",
              "      border-bottom-color: var(--fill-color);\n",
              "    }\n",
              "    90% {\n",
              "      border-color: transparent;\n",
              "      border-bottom-color: var(--fill-color);\n",
              "    }\n",
              "  }\n",
              "</style>\n",
              "\n",
              "  <script>\n",
              "    async function quickchart(key) {\n",
              "      const quickchartButtonEl =\n",
              "        document.querySelector('#' + key + ' button');\n",
              "      quickchartButtonEl.disabled = true;  // To prevent multiple clicks.\n",
              "      quickchartButtonEl.classList.add('colab-df-spinner');\n",
              "      try {\n",
              "        const charts = await google.colab.kernel.invokeFunction(\n",
              "            'suggestCharts', [key], {});\n",
              "      } catch (error) {\n",
              "        console.error('Error during call to suggestCharts:', error);\n",
              "      }\n",
              "      quickchartButtonEl.classList.remove('colab-df-spinner');\n",
              "      quickchartButtonEl.classList.add('colab-df-quickchart-complete');\n",
              "    }\n",
              "    (() => {\n",
              "      let quickchartButtonEl =\n",
              "        document.querySelector('#df-351b66ed-9ade-4e43-87d4-54b3d6191e35 button');\n",
              "      quickchartButtonEl.style.display =\n",
              "        google.colab.kernel.accessAllowed ? 'block' : 'none';\n",
              "    })();\n",
              "  </script>\n",
              "</div>\n",
              "    </div>\n",
              "  </div>\n"
            ]
          },
          "metadata": {},
          "execution_count": 2
        }
      ]
    },
    {
      "cell_type": "markdown",
      "metadata": {
        "id": "JEcjKTfDk0wn"
      },
      "source": [
        "## Question 1\n",
        "\n",
        "For various values of $b$, write code to print out the percent error of summing the ages in the `adult` dataset,\n",
        "clipped to each value of $b$."
      ]
    },
    {
      "cell_type": "code",
      "execution_count": 10,
      "metadata": {
        "deletable": false,
        "nbgrader": {
          "cell_type": "code",
          "checksum": "5017dfb00b9fa0c28dc47d5e03672bcc",
          "grade": false,
          "grade_id": "cell-bb6f4fe4b3beb456",
          "locked": false,
          "schema_version": 3,
          "solution": true,
          "task": false
        },
        "id": "_AlgOsMZk0wo",
        "colab": {
          "base_uri": "https://localhost:8080/"
        },
        "outputId": "3e896393-11f7-4e97-8638-6dfc9332085b"
      },
      "outputs": [
        {
          "output_type": "stream",
          "name": "stdout",
          "text": [
            "For b = 1, Clipped Sum = 32561, Percent Error = 97.4080940444511%\n",
            "For b = 11, Clipped Sum = 358171, Percent Error = 71.48903448896206%\n",
            "For b = 21, Clipped Sum = 678374, Percent Error = 46.000380495392264%\n",
            "For b = 31, Clipped Sum = 935798, Percent Error = 25.509031989473492%\n",
            "For b = 41, Clipped Sum = 1108069, Percent Error = 11.7959939725709%\n",
            "For b = 51, Clipped Sum = 1201865, Percent Error = 4.329687317165198%\n",
            "For b = 61, Clipped Sum = 1241700, Percent Error = 1.1587597123836921%\n",
            "For b = 71, Clipped Sum = 1253315, Percent Error = 0.2341877497996031%\n",
            "For b = 81, Clipped Sum = 1255772, Percent Error = 0.03860675005194001%\n",
            "For b = 91, Clipped Sum = 1256257, Percent Error = 0.0%\n"
          ]
        }
      ],
      "source": [
        "bs = range(1, 100, 10)\n",
        "real_sum = adult['Age'].sum()\n",
        "for b in bs:\n",
        "    # Clip the ages to the current value of b\n",
        "    clipped_sum = adult['Age'].clip(lower=0, upper=b).sum()\n",
        "\n",
        "    Percent_error=((real_sum-clipped_sum)/real_sum)*100\n",
        "     # Print the result\n",
        "    print(f\"For b = {b}, Clipped Sum = {clipped_sum}, Percent Error = {Percent_error}%\")"
      ]
    },
    {
      "cell_type": "markdown",
      "metadata": {
        "id": "THaNLyAQk0wp"
      },
      "source": [
        "What value of $b$ is the best?"
      ]
    },
    {
      "cell_type": "markdown",
      "metadata": {
        "deletable": false,
        "nbgrader": {
          "cell_type": "markdown",
          "checksum": "b5ae2ac2b16c4f62b326bccf0184692b",
          "grade": true,
          "grade_id": "cell-250b062d06204617",
          "locked": false,
          "points": 5,
          "schema_version": 3,
          "solution": true,
          "task": false
        },
        "id": "l5iUw7Uck0wq"
      },
      "source": [
        "YOUR ANSWER HERE"
      ]
    },
    {
      "cell_type": "markdown",
      "metadata": {
        "id": "zM4MZsmjk0wq"
      },
      "source": [
        "## Question 2\n",
        "\n",
        "For various values of $b$, print the result of a *differentially private* sum of ages, clipped to each value of $b$. Use $\\epsilon = 0.1$."
      ]
    },
    {
      "cell_type": "code",
      "execution_count": 18,
      "metadata": {
        "deletable": false,
        "nbgrader": {
          "cell_type": "code",
          "checksum": "fce2c03e38136df9fa6c79119866a44c",
          "grade": false,
          "grade_id": "cell-dca4f1bfa29d353d",
          "locked": false,
          "schema_version": 3,
          "solution": true,
          "task": false
        },
        "id": "8E1cCfjNk0wr",
        "colab": {
          "base_uri": "https://localhost:8080/"
        },
        "outputId": "e564d4d2-49e4-436d-a57a-bae380908650"
      },
      "outputs": [
        {
          "output_type": "stream",
          "name": "stdout",
          "text": [
            "For b = 1, Clipped Sum = 32561, differentially private sum =  32568.50577921981\n",
            "For b = 11, Clipped Sum = 358171, differentially private sum =  358181.9451314483\n",
            "For b = 21, Clipped Sum = 678374, differentially private sum =  678379.3176448656\n",
            "For b = 31, Clipped Sum = 935798, differentially private sum =  935788.6217624572\n",
            "For b = 41, Clipped Sum = 1108069, differentially private sum =  1108056.166257963\n",
            "For b = 51, Clipped Sum = 1201865, differentially private sum =  1201865.3782098033\n",
            "For b = 61, Clipped Sum = 1241700, differentially private sum =  1241702.9232992597\n",
            "For b = 71, Clipped Sum = 1253315, differentially private sum =  1253316.3727774047\n",
            "For b = 81, Clipped Sum = 1255772, differentially private sum =  1255772.190136209\n",
            "For b = 91, Clipped Sum = 1256257, differentially private sum =  1256255.7797449704\n"
          ]
        }
      ],
      "source": [
        "bs = range(1, 100, 10)\n",
        "real_sum = adult['Age'].sum()\n",
        "for b in bs:\n",
        "    # Clip the ages to the current value of b\n",
        "    clipped_sum = adult['Age'].clip(lower=0, upper=b).sum()\n",
        "\n",
        "    noise_add=clipped_sum+np.random.laplace(loc=0, scale=1/0.1)\n",
        "     # Print the result\n",
        "    print(f\"For b = {b}, Clipped Sum = {clipped_sum}, differentially private sum = \",noise_add)"
      ]
    },
    {
      "cell_type": "markdown",
      "metadata": {
        "id": "tTfWVhXkk0ws"
      },
      "source": [
        "Which value of $b$ is the best now? Does it differ?"
      ]
    },
    {
      "cell_type": "markdown",
      "metadata": {
        "deletable": false,
        "nbgrader": {
          "cell_type": "markdown",
          "checksum": "a6614c5f0fba0ddceddde10ee8626362",
          "grade": true,
          "grade_id": "cell-fee4808b879b0a04",
          "locked": false,
          "points": 5,
          "schema_version": 3,
          "solution": true,
          "task": false
        },
        "id": "PbEGVhlYk0ws"
      },
      "source": [
        "YOUR ANSWER HERE"
      ]
    },
    {
      "cell_type": "markdown",
      "metadata": {
        "id": "-mvgz7Kyk0wt"
      },
      "source": [
        "## Question 3\n",
        "\n",
        "Write an algorithm to *automatically pick the clipping parameter* for the age column. Your algorithm should satisfy differential privacy."
      ]
    },
    {
      "cell_type": "code",
      "execution_count": 65,
      "metadata": {
        "deletable": false,
        "nbgrader": {
          "cell_type": "code",
          "checksum": "0da086ab81420b019466185a8bbaf8c1",
          "grade": false,
          "grade_id": "cell-9a41939138d41f6f",
          "locked": false,
          "schema_version": 3,
          "solution": true,
          "task": false
        },
        "id": "n6zm96tSk0wt",
        "colab": {
          "base_uri": "https://localhost:8080/"
        },
        "outputId": "ca45ca93-16ce-4871-84db-f43e0311365e"
      },
      "outputs": [
        {
          "output_type": "execute_result",
          "data": {
            "text/plain": [
              "36    898.453217\n",
              "31    888.453217\n",
              "34    886.453217\n",
              "23    877.453217\n",
              "35    876.453217\n",
              "         ...    \n",
              "83      6.453217\n",
              "88      3.453217\n",
              "85      3.453217\n",
              "86      1.453217\n",
              "87      1.453217\n",
              "Name: Age, Length: 73, dtype: float64"
            ]
          },
          "metadata": {},
          "execution_count": 65
        }
      ],
      "source": [
        "def pick_b(epsilon):\n",
        "\n",
        "    clipped_sum = adult['Age'].clip(lower=0, upper=100).value_counts()\n",
        "\n",
        "    return clipped_sum + np.random.laplace(loc=0,scale=1/epsilon)\n",
        "\n",
        "pick_b(1.0)"
      ]
    },
    {
      "cell_type": "code",
      "execution_count": 66,
      "metadata": {
        "deletable": false,
        "editable": false,
        "nbgrader": {
          "cell_type": "code",
          "checksum": "692492fba66dc0685be8dee946edbed7",
          "grade": true,
          "grade_id": "cell-136e29134703a26b",
          "locked": true,
          "points": 5,
          "schema_version": 3,
          "solution": false,
          "task": false
        },
        "id": "OR-SPRJnk0wt"
      },
      "outputs": [],
      "source": [
        "# TEST CASE for question 3\n",
        "\n",
        "many_trials = np.mean([pick_b(1.0) for _ in range(100)])\n",
        "assert many_trials > 70\n",
        "assert many_trials < 500"
      ]
    },
    {
      "cell_type": "markdown",
      "metadata": {
        "id": "d7MKYkQxk0wu"
      },
      "source": [
        "## Question 4\n",
        "\n",
        "What is the privacy cost of your algorithm, and why?"
      ]
    },
    {
      "cell_type": "markdown",
      "metadata": {
        "deletable": false,
        "nbgrader": {
          "cell_type": "markdown",
          "checksum": "e3b3bf3b0934d4a2d9429867fd118ab4",
          "grade": true,
          "grade_id": "cell-5e3ac9bbd3f179e9",
          "locked": false,
          "points": 5,
          "schema_version": 3,
          "solution": true,
          "task": false
        },
        "id": "DqS2TjCEk0wu"
      },
      "source": [
        "YOUR ANSWER HERE"
      ]
    },
    {
      "cell_type": "markdown",
      "metadata": {
        "id": "wtLHLN7Dk0wu"
      },
      "source": [
        "## Question 5\n",
        "\n",
        "Write code to generate a *histogram* of education numbers in the `adult` dataset."
      ]
    },
    {
      "cell_type": "code",
      "execution_count": 41,
      "metadata": {
        "deletable": false,
        "nbgrader": {
          "cell_type": "code",
          "checksum": "a4c084311f288978d7388707ed803dc4",
          "grade": false,
          "grade_id": "cell-ee86a67be2f997fb",
          "locked": false,
          "schema_version": 3,
          "solution": true,
          "task": false
        },
        "id": "YTlGhEZmk0wv"
      },
      "outputs": [],
      "source": [
        "def education_hist():\n",
        "    # Generate a histogram of education numbers\n",
        "    education_counts = adult['Education'].value_counts()\n",
        "\n",
        "    # Convert the result to a dictionary for easy access\n",
        "    education_dict = education_counts.to_dict()\n",
        "\n",
        "    return education_dict"
      ]
    },
    {
      "cell_type": "code",
      "execution_count": 42,
      "metadata": {
        "deletable": false,
        "editable": false,
        "nbgrader": {
          "cell_type": "code",
          "checksum": "9ca7a5909d65acf22b40eef95b77ef24",
          "grade": true,
          "grade_id": "cell-7e1309ee016dc1b0",
          "locked": true,
          "points": 5,
          "schema_version": 3,
          "solution": false,
          "task": false
        },
        "id": "P_Lf7xOBk0wv"
      },
      "outputs": [],
      "source": [
        "# TEST CASE for question 5\n",
        "h = education_hist()\n",
        "assert h['HS-grad'] == 10501\n",
        "assert h['12th'] == 433\n",
        "assert h['Doctorate'] == 413"
      ]
    },
    {
      "cell_type": "markdown",
      "metadata": {
        "id": "0GSXA70dk0wv"
      },
      "source": [
        "## Question 6\n",
        "\n",
        "Write code to release a *differentially private histogram* of education numbers."
      ]
    },
    {
      "cell_type": "code",
      "execution_count": 45,
      "metadata": {
        "deletable": false,
        "nbgrader": {
          "cell_type": "code",
          "checksum": "78135ffc0ddb6f5f824c4380c31fa067",
          "grade": false,
          "grade_id": "cell-e5d6ede7edcdc46e",
          "locked": false,
          "schema_version": 3,
          "solution": true,
          "task": false
        },
        "id": "6vZ4SQYrk0ww",
        "colab": {
          "base_uri": "https://localhost:8080/"
        },
        "outputId": "d749b1a6-69e8-4251-cf2a-b56edd6c1cc4"
      },
      "outputs": [
        {
          "output_type": "execute_result",
          "data": {
            "text/plain": [
              "HS-grad         10498.657176\n",
              "Some-college     7288.657176\n",
              "Bachelors        5352.657176\n",
              "Masters          1720.657176\n",
              "Assoc-voc        1379.657176\n",
              "11th             1172.657176\n",
              "Assoc-acdm       1064.657176\n",
              "10th              930.657176\n",
              "7th-8th           643.657176\n",
              "Prof-school       573.657176\n",
              "9th               511.657176\n",
              "12th              430.657176\n",
              "Doctorate         410.657176\n",
              "5th-6th           330.657176\n",
              "1st-4th           165.657176\n",
              "Preschool          48.657176\n",
              "Name: Education, dtype: float64"
            ]
          },
          "metadata": {},
          "execution_count": 45
        }
      ],
      "source": [
        "def dp_education_hist(epsilon):\n",
        "    return adult['Education'].value_counts()+ np.random.laplace(loc=0,scale=1/epsilon)\n",
        "\n",
        "dp_education_hist(1.0)"
      ]
    },
    {
      "cell_type": "code",
      "execution_count": 46,
      "metadata": {
        "deletable": false,
        "editable": false,
        "nbgrader": {
          "cell_type": "code",
          "checksum": "b6d8b325844651b39c4e402d3bfac373",
          "grade": true,
          "grade_id": "cell-3d994871e2ce6873",
          "locked": true,
          "points": 5,
          "schema_version": 3,
          "solution": false,
          "task": false
        },
        "id": "NIlKHZGHk0ww"
      },
      "outputs": [],
      "source": [
        "# TEST CASE for question 6\n",
        "h = dp_education_hist(1.0)\n",
        "assert abs(h['HS-grad'] - 10501) < 100\n",
        "assert abs(h['Doctorate'] - 413) < 100"
      ]
    },
    {
      "cell_type": "markdown",
      "metadata": {
        "id": "Yr8E6cnhk0ww"
      },
      "source": [
        "## Question 7\n",
        "\n",
        "What is the total privacy cost of `dp_education_hist`, and why?"
      ]
    },
    {
      "cell_type": "markdown",
      "metadata": {
        "deletable": false,
        "nbgrader": {
          "cell_type": "markdown",
          "checksum": "b260643b7d27a6d1ba3d243471dd2758",
          "grade": true,
          "grade_id": "cell-892ecfb572a7e900",
          "locked": false,
          "points": 5,
          "schema_version": 3,
          "solution": true,
          "task": false
        },
        "id": "BIA47Yl_k0wx"
      },
      "source": [
        "YOUR ANSWER HERE"
      ]
    },
    {
      "cell_type": "markdown",
      "metadata": {
        "id": "SXve0BHzk0wx"
      },
      "source": [
        "## Question 8\n",
        "\n",
        "Write code to generate a differentially private *contingency table* for the Education and Sex columns of the `adult` dataset."
      ]
    },
    {
      "cell_type": "code",
      "execution_count": 52,
      "metadata": {
        "deletable": false,
        "nbgrader": {
          "cell_type": "code",
          "checksum": "f1d36e02ba769a0419701627a6a54a5c",
          "grade": false,
          "grade_id": "cell-8ee68bcf1e36b660",
          "locked": false,
          "schema_version": 3,
          "solution": true,
          "task": false
        },
        "id": "rWh-PxTgk0wx",
        "colab": {
          "base_uri": "https://localhost:8080/",
          "height": 576
        },
        "outputId": "243b37df-7db0-4bc3-b838-9fa5c7f22682"
      },
      "outputs": [
        {
          "output_type": "execute_result",
          "data": {
            "text/plain": [
              "Sex                Female         Male\n",
              "Education                             \n",
              "10th           295.937866   638.937866\n",
              "11th           432.937866   743.937866\n",
              "12th           144.937866   289.937866\n",
              "1st-4th         46.937866   122.937866\n",
              "5th-6th         84.937866   249.937866\n",
              "7th-8th        160.937866   486.937866\n",
              "9th            144.937866   370.937866\n",
              "Assoc-acdm     421.937866   646.937866\n",
              "Assoc-voc      500.937866   882.937866\n",
              "Bachelors     1619.937866  3736.937866\n",
              "Doctorate       86.937866   327.937866\n",
              "HS-grad       3390.937866  7111.937866\n",
              "Masters        536.937866  1187.937866\n",
              "Preschool       16.937866    35.937866\n",
              "Prof-school     92.937866   484.937866\n",
              "Some-college  2806.937866  4485.937866"
            ],
            "text/html": [
              "\n",
              "  <div id=\"df-b56b9a43-997e-410c-93f5-58d66c21230d\" class=\"colab-df-container\">\n",
              "    <div>\n",
              "<style scoped>\n",
              "    .dataframe tbody tr th:only-of-type {\n",
              "        vertical-align: middle;\n",
              "    }\n",
              "\n",
              "    .dataframe tbody tr th {\n",
              "        vertical-align: top;\n",
              "    }\n",
              "\n",
              "    .dataframe thead th {\n",
              "        text-align: right;\n",
              "    }\n",
              "</style>\n",
              "<table border=\"1\" class=\"dataframe\">\n",
              "  <thead>\n",
              "    <tr style=\"text-align: right;\">\n",
              "      <th>Sex</th>\n",
              "      <th>Female</th>\n",
              "      <th>Male</th>\n",
              "    </tr>\n",
              "    <tr>\n",
              "      <th>Education</th>\n",
              "      <th></th>\n",
              "      <th></th>\n",
              "    </tr>\n",
              "  </thead>\n",
              "  <tbody>\n",
              "    <tr>\n",
              "      <th>10th</th>\n",
              "      <td>295.937866</td>\n",
              "      <td>638.937866</td>\n",
              "    </tr>\n",
              "    <tr>\n",
              "      <th>11th</th>\n",
              "      <td>432.937866</td>\n",
              "      <td>743.937866</td>\n",
              "    </tr>\n",
              "    <tr>\n",
              "      <th>12th</th>\n",
              "      <td>144.937866</td>\n",
              "      <td>289.937866</td>\n",
              "    </tr>\n",
              "    <tr>\n",
              "      <th>1st-4th</th>\n",
              "      <td>46.937866</td>\n",
              "      <td>122.937866</td>\n",
              "    </tr>\n",
              "    <tr>\n",
              "      <th>5th-6th</th>\n",
              "      <td>84.937866</td>\n",
              "      <td>249.937866</td>\n",
              "    </tr>\n",
              "    <tr>\n",
              "      <th>7th-8th</th>\n",
              "      <td>160.937866</td>\n",
              "      <td>486.937866</td>\n",
              "    </tr>\n",
              "    <tr>\n",
              "      <th>9th</th>\n",
              "      <td>144.937866</td>\n",
              "      <td>370.937866</td>\n",
              "    </tr>\n",
              "    <tr>\n",
              "      <th>Assoc-acdm</th>\n",
              "      <td>421.937866</td>\n",
              "      <td>646.937866</td>\n",
              "    </tr>\n",
              "    <tr>\n",
              "      <th>Assoc-voc</th>\n",
              "      <td>500.937866</td>\n",
              "      <td>882.937866</td>\n",
              "    </tr>\n",
              "    <tr>\n",
              "      <th>Bachelors</th>\n",
              "      <td>1619.937866</td>\n",
              "      <td>3736.937866</td>\n",
              "    </tr>\n",
              "    <tr>\n",
              "      <th>Doctorate</th>\n",
              "      <td>86.937866</td>\n",
              "      <td>327.937866</td>\n",
              "    </tr>\n",
              "    <tr>\n",
              "      <th>HS-grad</th>\n",
              "      <td>3390.937866</td>\n",
              "      <td>7111.937866</td>\n",
              "    </tr>\n",
              "    <tr>\n",
              "      <th>Masters</th>\n",
              "      <td>536.937866</td>\n",
              "      <td>1187.937866</td>\n",
              "    </tr>\n",
              "    <tr>\n",
              "      <th>Preschool</th>\n",
              "      <td>16.937866</td>\n",
              "      <td>35.937866</td>\n",
              "    </tr>\n",
              "    <tr>\n",
              "      <th>Prof-school</th>\n",
              "      <td>92.937866</td>\n",
              "      <td>484.937866</td>\n",
              "    </tr>\n",
              "    <tr>\n",
              "      <th>Some-college</th>\n",
              "      <td>2806.937866</td>\n",
              "      <td>4485.937866</td>\n",
              "    </tr>\n",
              "  </tbody>\n",
              "</table>\n",
              "</div>\n",
              "    <div class=\"colab-df-buttons\">\n",
              "\n",
              "  <div class=\"colab-df-container\">\n",
              "    <button class=\"colab-df-convert\" onclick=\"convertToInteractive('df-b56b9a43-997e-410c-93f5-58d66c21230d')\"\n",
              "            title=\"Convert this dataframe to an interactive table.\"\n",
              "            style=\"display:none;\">\n",
              "\n",
              "  <svg xmlns=\"http://www.w3.org/2000/svg\" height=\"24px\" viewBox=\"0 -960 960 960\">\n",
              "    <path d=\"M120-120v-720h720v720H120Zm60-500h600v-160H180v160Zm220 220h160v-160H400v160Zm0 220h160v-160H400v160ZM180-400h160v-160H180v160Zm440 0h160v-160H620v160ZM180-180h160v-160H180v160Zm440 0h160v-160H620v160Z\"/>\n",
              "  </svg>\n",
              "    </button>\n",
              "\n",
              "  <style>\n",
              "    .colab-df-container {\n",
              "      display:flex;\n",
              "      gap: 12px;\n",
              "    }\n",
              "\n",
              "    .colab-df-convert {\n",
              "      background-color: #E8F0FE;\n",
              "      border: none;\n",
              "      border-radius: 50%;\n",
              "      cursor: pointer;\n",
              "      display: none;\n",
              "      fill: #1967D2;\n",
              "      height: 32px;\n",
              "      padding: 0 0 0 0;\n",
              "      width: 32px;\n",
              "    }\n",
              "\n",
              "    .colab-df-convert:hover {\n",
              "      background-color: #E2EBFA;\n",
              "      box-shadow: 0px 1px 2px rgba(60, 64, 67, 0.3), 0px 1px 3px 1px rgba(60, 64, 67, 0.15);\n",
              "      fill: #174EA6;\n",
              "    }\n",
              "\n",
              "    .colab-df-buttons div {\n",
              "      margin-bottom: 4px;\n",
              "    }\n",
              "\n",
              "    [theme=dark] .colab-df-convert {\n",
              "      background-color: #3B4455;\n",
              "      fill: #D2E3FC;\n",
              "    }\n",
              "\n",
              "    [theme=dark] .colab-df-convert:hover {\n",
              "      background-color: #434B5C;\n",
              "      box-shadow: 0px 1px 3px 1px rgba(0, 0, 0, 0.15);\n",
              "      filter: drop-shadow(0px 1px 2px rgba(0, 0, 0, 0.3));\n",
              "      fill: #FFFFFF;\n",
              "    }\n",
              "  </style>\n",
              "\n",
              "    <script>\n",
              "      const buttonEl =\n",
              "        document.querySelector('#df-b56b9a43-997e-410c-93f5-58d66c21230d button.colab-df-convert');\n",
              "      buttonEl.style.display =\n",
              "        google.colab.kernel.accessAllowed ? 'block' : 'none';\n",
              "\n",
              "      async function convertToInteractive(key) {\n",
              "        const element = document.querySelector('#df-b56b9a43-997e-410c-93f5-58d66c21230d');\n",
              "        const dataTable =\n",
              "          await google.colab.kernel.invokeFunction('convertToInteractive',\n",
              "                                                    [key], {});\n",
              "        if (!dataTable) return;\n",
              "\n",
              "        const docLinkHtml = 'Like what you see? Visit the ' +\n",
              "          '<a target=\"_blank\" href=https://colab.research.google.com/notebooks/data_table.ipynb>data table notebook</a>'\n",
              "          + ' to learn more about interactive tables.';\n",
              "        element.innerHTML = '';\n",
              "        dataTable['output_type'] = 'display_data';\n",
              "        await google.colab.output.renderOutput(dataTable, element);\n",
              "        const docLink = document.createElement('div');\n",
              "        docLink.innerHTML = docLinkHtml;\n",
              "        element.appendChild(docLink);\n",
              "      }\n",
              "    </script>\n",
              "  </div>\n",
              "\n",
              "\n",
              "<div id=\"df-5f53ceb9-708d-4de2-9e0e-eb82896f91df\">\n",
              "  <button class=\"colab-df-quickchart\" onclick=\"quickchart('df-5f53ceb9-708d-4de2-9e0e-eb82896f91df')\"\n",
              "            title=\"Suggest charts\"\n",
              "            style=\"display:none;\">\n",
              "\n",
              "<svg xmlns=\"http://www.w3.org/2000/svg\" height=\"24px\"viewBox=\"0 0 24 24\"\n",
              "     width=\"24px\">\n",
              "    <g>\n",
              "        <path d=\"M19 3H5c-1.1 0-2 .9-2 2v14c0 1.1.9 2 2 2h14c1.1 0 2-.9 2-2V5c0-1.1-.9-2-2-2zM9 17H7v-7h2v7zm4 0h-2V7h2v10zm4 0h-2v-4h2v4z\"/>\n",
              "    </g>\n",
              "</svg>\n",
              "  </button>\n",
              "\n",
              "<style>\n",
              "  .colab-df-quickchart {\n",
              "      --bg-color: #E8F0FE;\n",
              "      --fill-color: #1967D2;\n",
              "      --hover-bg-color: #E2EBFA;\n",
              "      --hover-fill-color: #174EA6;\n",
              "      --disabled-fill-color: #AAA;\n",
              "      --disabled-bg-color: #DDD;\n",
              "  }\n",
              "\n",
              "  [theme=dark] .colab-df-quickchart {\n",
              "      --bg-color: #3B4455;\n",
              "      --fill-color: #D2E3FC;\n",
              "      --hover-bg-color: #434B5C;\n",
              "      --hover-fill-color: #FFFFFF;\n",
              "      --disabled-bg-color: #3B4455;\n",
              "      --disabled-fill-color: #666;\n",
              "  }\n",
              "\n",
              "  .colab-df-quickchart {\n",
              "    background-color: var(--bg-color);\n",
              "    border: none;\n",
              "    border-radius: 50%;\n",
              "    cursor: pointer;\n",
              "    display: none;\n",
              "    fill: var(--fill-color);\n",
              "    height: 32px;\n",
              "    padding: 0;\n",
              "    width: 32px;\n",
              "  }\n",
              "\n",
              "  .colab-df-quickchart:hover {\n",
              "    background-color: var(--hover-bg-color);\n",
              "    box-shadow: 0 1px 2px rgba(60, 64, 67, 0.3), 0 1px 3px 1px rgba(60, 64, 67, 0.15);\n",
              "    fill: var(--button-hover-fill-color);\n",
              "  }\n",
              "\n",
              "  .colab-df-quickchart-complete:disabled,\n",
              "  .colab-df-quickchart-complete:disabled:hover {\n",
              "    background-color: var(--disabled-bg-color);\n",
              "    fill: var(--disabled-fill-color);\n",
              "    box-shadow: none;\n",
              "  }\n",
              "\n",
              "  .colab-df-spinner {\n",
              "    border: 2px solid var(--fill-color);\n",
              "    border-color: transparent;\n",
              "    border-bottom-color: var(--fill-color);\n",
              "    animation:\n",
              "      spin 1s steps(1) infinite;\n",
              "  }\n",
              "\n",
              "  @keyframes spin {\n",
              "    0% {\n",
              "      border-color: transparent;\n",
              "      border-bottom-color: var(--fill-color);\n",
              "      border-left-color: var(--fill-color);\n",
              "    }\n",
              "    20% {\n",
              "      border-color: transparent;\n",
              "      border-left-color: var(--fill-color);\n",
              "      border-top-color: var(--fill-color);\n",
              "    }\n",
              "    30% {\n",
              "      border-color: transparent;\n",
              "      border-left-color: var(--fill-color);\n",
              "      border-top-color: var(--fill-color);\n",
              "      border-right-color: var(--fill-color);\n",
              "    }\n",
              "    40% {\n",
              "      border-color: transparent;\n",
              "      border-right-color: var(--fill-color);\n",
              "      border-top-color: var(--fill-color);\n",
              "    }\n",
              "    60% {\n",
              "      border-color: transparent;\n",
              "      border-right-color: var(--fill-color);\n",
              "    }\n",
              "    80% {\n",
              "      border-color: transparent;\n",
              "      border-right-color: var(--fill-color);\n",
              "      border-bottom-color: var(--fill-color);\n",
              "    }\n",
              "    90% {\n",
              "      border-color: transparent;\n",
              "      border-bottom-color: var(--fill-color);\n",
              "    }\n",
              "  }\n",
              "</style>\n",
              "\n",
              "  <script>\n",
              "    async function quickchart(key) {\n",
              "      const quickchartButtonEl =\n",
              "        document.querySelector('#' + key + ' button');\n",
              "      quickchartButtonEl.disabled = true;  // To prevent multiple clicks.\n",
              "      quickchartButtonEl.classList.add('colab-df-spinner');\n",
              "      try {\n",
              "        const charts = await google.colab.kernel.invokeFunction(\n",
              "            'suggestCharts', [key], {});\n",
              "      } catch (error) {\n",
              "        console.error('Error during call to suggestCharts:', error);\n",
              "      }\n",
              "      quickchartButtonEl.classList.remove('colab-df-spinner');\n",
              "      quickchartButtonEl.classList.add('colab-df-quickchart-complete');\n",
              "    }\n",
              "    (() => {\n",
              "      let quickchartButtonEl =\n",
              "        document.querySelector('#df-5f53ceb9-708d-4de2-9e0e-eb82896f91df button');\n",
              "      quickchartButtonEl.style.display =\n",
              "        google.colab.kernel.accessAllowed ? 'block' : 'none';\n",
              "    })();\n",
              "  </script>\n",
              "</div>\n",
              "    </div>\n",
              "  </div>\n"
            ]
          },
          "metadata": {},
          "execution_count": 52
        }
      ],
      "source": [
        "def dp_crosstab_education_sex(epsilon):\n",
        "     return pd.crosstab(adult['Education'], adult['Sex'])+np.random.laplace(loc=0,scale=1/epsilon)\n",
        "dp_crosstab_education_sex(1.0)"
      ]
    },
    {
      "cell_type": "code",
      "execution_count": 53,
      "metadata": {
        "deletable": false,
        "editable": false,
        "nbgrader": {
          "cell_type": "code",
          "checksum": "c75206f511320740052bb35011d31e14",
          "grade": true,
          "grade_id": "cell-8793de8189968533",
          "locked": true,
          "points": 5,
          "schema_version": 3,
          "solution": false,
          "task": false
        },
        "id": "LhJWALoUk0wx"
      },
      "outputs": [],
      "source": [
        "# TEST CASE for question 8\n",
        "ct = dp_crosstab_education_sex(1.0)\n",
        "assert abs(ct['Female']['10th'] - 295) < 100\n",
        "assert abs(ct['Male']['10th'] - 638) < 100\n",
        "assert abs(ct['Female']['Bachelors'] - 1619) < 100\n",
        "\n",
        "assert abs(ct['Female']['10th'] - 295) > 0\n",
        "assert abs(ct['Male']['10th'] - 638) > 0\n",
        "assert abs(ct['Female']['Bachelors'] - 1619) > 0"
      ]
    },
    {
      "cell_type": "markdown",
      "metadata": {
        "id": "NO2aVxMuk0wx"
      },
      "source": [
        "## Question 9\n",
        "\n",
        "Does parallel composition apply for the contingency table in question 1? Why or why not?"
      ]
    },
    {
      "cell_type": "markdown",
      "metadata": {
        "deletable": false,
        "nbgrader": {
          "cell_type": "markdown",
          "checksum": "9d45318df4e423bfde4cf13a8527fc60",
          "grade": true,
          "grade_id": "cell-ad80affc47428f91",
          "locked": false,
          "points": 5,
          "schema_version": 3,
          "solution": true,
          "task": false
        },
        "id": "9JrwfedHk0wx"
      },
      "source": [
        "YOUR ANSWER HERE"
      ]
    },
    {
      "cell_type": "markdown",
      "metadata": {
        "id": "pAlYv9Sok0wy"
      },
      "source": [
        "## Question 10\n",
        "\n",
        "Does the number of columns used in constructing the contingency table matter for privacy cost? Does it matter for accuracy?"
      ]
    },
    {
      "cell_type": "markdown",
      "metadata": {
        "deletable": false,
        "nbgrader": {
          "cell_type": "markdown",
          "checksum": "851d5bf06ada00ac761cf695bf3bb8ab",
          "grade": true,
          "grade_id": "cell-5dead8598d0dbda8",
          "locked": false,
          "points": 5,
          "schema_version": 3,
          "solution": true,
          "task": false
        },
        "id": "ctFLObp9k0wy"
      },
      "source": [
        "YOUR ANSWER HERE"
      ]
    },
    {
      "cell_type": "markdown",
      "metadata": {
        "id": "Ysi9jGA9k0wy"
      },
      "source": [
        "## Question 11\n",
        "\n",
        "Implement the Gaussian mechanism for $(\\epsilon, \\delta)$-differential privacy."
      ]
    },
    {
      "cell_type": "code",
      "execution_count": 54,
      "metadata": {
        "deletable": false,
        "nbgrader": {
          "cell_type": "code",
          "checksum": "31d4967e3d4bf6c87e8f17c5a8869a92",
          "grade": false,
          "grade_id": "cell-8a747c92ab199a91",
          "locked": false,
          "schema_version": 3,
          "solution": true,
          "task": false
        },
        "id": "KkV0luRAk0wy"
      },
      "outputs": [],
      "source": [
        "def gaussian_mech(count, sensitivity, epsilon, delta):\n",
        "    # Calculate the scale parameter for Laplace noise\n",
        "    beta = sensitivity / epsilon\n",
        "\n",
        "    # Generate Laplace noise\n",
        "    laplace_noise = np.random.laplace(scale=beta)\n",
        "\n",
        "    # Calculate the standard deviation of Gaussian noise\n",
        "    sigma = np.sqrt(2 * np.log(1.25 / delta)) * beta\n",
        "\n",
        "    # Generate Gaussian noise\n",
        "    gaussian_noise = np.random.normal(loc=0, scale=sigma)\n",
        "\n",
        "    # Add Laplace and Gaussian noise to the count\n",
        "    noisy_count = count + laplace_noise + gaussian_noise\n",
        "\n",
        "    return noisy_count"
      ]
    },
    {
      "cell_type": "code",
      "execution_count": 55,
      "metadata": {
        "deletable": false,
        "editable": false,
        "nbgrader": {
          "cell_type": "code",
          "checksum": "1adc60d692e5bf0e529ed61ad082a8ac",
          "grade": true,
          "grade_id": "cell-f991d474ed13d0ed",
          "locked": true,
          "points": 5,
          "schema_version": 3,
          "solution": false,
          "task": false
        },
        "id": "5RhgHiLak0wy",
        "colab": {
          "base_uri": "https://localhost:8080/"
        },
        "outputId": "7abf7913-b9d2-4830-f90a-695e7702ad2c"
      },
      "outputs": [
        {
          "output_type": "stream",
          "name": "stdout",
          "text": [
            "mean error: 0.05886428876069715\n"
          ]
        }
      ],
      "source": [
        "# TEST CASE\n",
        "\n",
        "results = [gaussian_mech(len(adult[adult['Age'] > 50]), 1, 1.0, 10e-5) for _ in range(100)]\n",
        "errors = [pct_error(len(adult[adult['Age'] > 50]), r) for r in results]\n",
        "print('mean error:', np.mean(errors))\n",
        "\n",
        "assert np.mean(errors) > 0\n",
        "assert np.mean(errors) < 2"
      ]
    },
    {
      "cell_type": "markdown",
      "metadata": {
        "id": "DIT0w1Qyk0wy"
      },
      "source": [
        "## Question 12\n",
        "\n",
        "How do the Laplace and Gaussian mechanisms compare in terms of relative error on the query \"how many individuals are over 50 years old\" with $\\epsilon = 1$ and $\\delta = 10^{-5}$?"
      ]
    },
    {
      "cell_type": "code",
      "execution_count": 56,
      "metadata": {
        "id": "TR9f0VZ_k0wz",
        "colab": {
          "base_uri": "https://localhost:8080/",
          "height": 425
        },
        "outputId": "e93e4c63-c0e3-42ab-e9f0-688c76485108"
      },
      "outputs": [
        {
          "output_type": "display_data",
          "data": {
            "text/plain": [
              "<Figure size 640x480 with 1 Axes>"
            ],
            "image/png": "[encoded data removed]"
          },
          "metadata": {}
        }
      ],
      "source": [
        "true_answer = len(adult[adult['Age'] > 50])\n",
        "\n",
        "laplace_answers = [laplace_mech(true_answer, 1, 1) for _ in range(200)]\n",
        "gaussian_answers = [gaussian_mech(true_answer, 1, 1, 10e-5) for _ in range(200)]\n",
        "\n",
        "laplace_error = [pct_error(true_answer, a) for a in laplace_answers]\n",
        "gaussian_error = [pct_error(true_answer, a) for a in gaussian_answers]\n",
        "\n",
        "_, bins, _ = plt.hist(gaussian_error, bins=20, label='Gaussian')\n",
        "plt.hist(laplace_error, bins=bins, label='Laplace', alpha=0.5)\n",
        "plt.legend();"
      ]
    },
    {
      "cell_type": "markdown",
      "metadata": {
        "deletable": false,
        "nbgrader": {
          "cell_type": "markdown",
          "checksum": "1153ff5988a844b33435df5d8de63f06",
          "grade": true,
          "grade_id": "cell-aa96c49ecf1a6d2c",
          "locked": false,
          "points": 5,
          "schema_version": 3,
          "solution": true,
          "task": false
        },
        "id": "Kh_qh2kCk0wz"
      },
      "source": [
        "YOUR ANSWER HERE"
      ]
    },
    {
      "cell_type": "markdown",
      "metadata": {
        "id": "TeTzZXudk0wz"
      },
      "source": [
        "## Not a Question - Just for reference\n",
        "\n",
        "[Reference](https://uvm-plaid.github.io/programming-dp/notebooks/ch6.html#the-gaussian-mechanism)"
      ]
    },
    {
      "cell_type": "code",
      "execution_count": 57,
      "metadata": {
        "id": "SAxoZd8qk0wz",
        "colab": {
          "base_uri": "https://localhost:8080/",
          "height": 442
        },
        "outputId": "e6725f49-eca5-4495-f5e0-1bb24f01fc62"
      },
      "outputs": [
        {
          "output_type": "stream",
          "name": "stdout",
          "text": [
            "e^epsilon = 2.718281828459045\n"
          ]
        },
        {
          "output_type": "display_data",
          "data": {
            "text/plain": [
              "<Figure size 640x480 with 1 Axes>"
            ],
            "image/png": "[encoded data removed]"
          },
          "metadata": {}
        }
      ],
      "source": [
        "epsilon = 1\n",
        "sensitivity = 1\n",
        "delta = 1e-5\n",
        "sigma_squared = 2 * sensitivity**2 * np.log(1.25 / delta) / (epsilon**2)\n",
        "sigma = np.sqrt(sigma_squared)\n",
        "\n",
        "def gauss_pdf(x):\n",
        "    return 1/(sigma*np.sqrt(2*np.pi)) * np.exp(-(1/2)*(x/sigma)**2)\n",
        "\n",
        "xs = np.linspace(-50, 50, 200)\n",
        "ys1 = [gauss_pdf(x) for x in xs]\n",
        "ys2 = [gauss_pdf(x+1) for x in xs]\n",
        "\n",
        "plt.plot(xs,ys1)\n",
        "plt.plot(xs,ys2)\n",
        "\n",
        "# ratio < e^epsilon should hold\n",
        "print('e^epsilon =', np.exp(epsilon))\n",
        "ratios = [(x, y1 / y2) for x, y1, y2 in zip(xs, ys1, ys2)]\n",
        "#ratios"
      ]
    },
    {
      "cell_type": "code",
      "execution_count": 58,
      "metadata": {
        "id": "sg09SQJEk0wz",
        "colab": {
          "base_uri": "https://localhost:8080/",
          "height": 442
        },
        "outputId": "c3646ea9-653b-4764-9ced-6eda76e14dd1"
      },
      "outputs": [
        {
          "output_type": "stream",
          "name": "stdout",
          "text": [
            "e^epsilon = 2.718281828459045\n"
          ]
        },
        {
          "output_type": "display_data",
          "data": {
            "text/plain": [
              "<Figure size 640x480 with 1 Axes>"
            ],
            "image/png": "[encoded data removed]"
          },
          "metadata": {}
        }
      ],
      "source": [
        "def laplace_pdf(x):\n",
        "    return (1/2)*epsilon * np.exp(-np.abs(x)*epsilon)\n",
        "\n",
        "xs = np.linspace(-50, 50, 200)\n",
        "ys1 = [laplace_pdf(x) for x in xs]\n",
        "ys2 = [laplace_pdf(x+1) for x in xs]\n",
        "\n",
        "plt.plot(xs,ys1)\n",
        "plt.plot(xs,ys2)\n",
        "\n",
        "# ratio < e^epsilon should hold\n",
        "print('e^epsilon =', np.exp(epsilon))\n",
        "ratios = [(x, y1 / y2) for x, y1, y2 in zip(xs, ys1, ys2)]\n",
        "#ratios"
      ]
    }
  ],
  "metadata": {
    "kernelspec": {
      "display_name": "Python 3 (ipykernel)",
      "language": "python",
      "name": "python3"
    },
    "language_info": {
      "codemirror_mode": {
        "name": "ipython",
        "version": 3
      },
      "file_extension": ".py",
      "mimetype": "text/x-python",
      "name": "python",
      "nbconvert_exporter": "python",
      "pygments_lexer": "ipython3",
      "version": "3.8.11"
    },
    "colab": {
      "provenance": [],
      "include_colab_link": true
    }
  },
  "nbformat": 4,
  "nbformat_minor": 0
}