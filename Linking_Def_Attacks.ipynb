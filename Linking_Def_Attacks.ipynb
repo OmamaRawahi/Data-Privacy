{
  "cells": [
    {
      "cell_type": "markdown",
      "metadata": {
        "id": "view-in-github",
        "colab_type": "text"
      },
      "source": [
        "<a href=\"https://colab.research.google.com/github/OmamaRawahi/O-M/blob/main/Another_copy_of_Linking_Def_Attacks.ipynb\" target=\"_parent\"><img src=\"https://colab.research.google.com/assets/colab-badge.svg\" alt=\"Open In Colab\"/></a>"
      ]
    },
    {
      "cell_type": "markdown",
      "metadata": {
        "id": "po4SIIIIlYgQ"
      },
      "source": [
        "# Data Privacy"
      ]
    },
    {
      "cell_type": "code",
      "execution_count": 47,
      "metadata": {
        "id": "Hy7SeeqWlYgT"
      },
      "outputs": [],
      "source": [
        "# Load the data and libraries\n",
        "import pandas as pd\n",
        "import numpy as np\n",
        "\n",
        "adult = pd.read_csv('https://github.com/jnear/cs211-data-privacy/raw/master/homework/adult_with_pii.csv')\n",
        "adult_pii = adult[['Name', 'DOB', 'SSN', 'Zip', 'Age']]\n",
        "adult_deid = adult.drop(columns=['Name', 'SSN'])"
      ]
    },
    {
      "cell_type": "code",
      "source": [
        "adult"
      ],
      "metadata": {
        "id": "XF6Qog359Sjw"
      },
      "execution_count": null,
      "outputs": []
    },
    {
      "cell_type": "markdown",
      "metadata": {
        "id": "6nTPiWq-lYgV"
      },
      "source": [
        "## Question 1 (20 points)\n",
        "\n",
        "Using the dataframes `adult_pii` and `adult_deid`, write code to conduct a linking attack to recover the names of as many individuals in `adult_deid` as possible. Your solution should be parameterized by the set of columns to use in the attack."
      ]
    },
    {
      "cell_type": "code",
      "execution_count": 20,
      "metadata": {
        "deletable": false,
        "nbgrader": {
          "cell_type": "code",
          "checksum": "104cae26868ad3192fa4559d42c5a9bc",
          "grade": false,
          "grade_id": "cell-e6389ceace711c32",
          "locked": false,
          "schema_version": 3,
          "solution": true,
          "task": false
        },
        "id": "SFwssh9ilYgW"
      },
      "outputs": [],
      "source": [
        "def linking_attack(cols):\n",
        "    return pd.merge(adult_pii[cols],adult_deid[cols])"
      ]
    },
    {
      "cell_type": "code",
      "execution_count": 21,
      "metadata": {
        "deletable": false,
        "editable": false,
        "nbgrader": {
          "cell_type": "code",
          "checksum": "a76869307e0cddfa2304385041c0d3af",
          "grade": true,
          "grade_id": "cell-251b9f1c6f7b4630",
          "locked": true,
          "points": 20,
          "schema_version": 3,
          "solution": false,
          "task": false
        },
        "id": "iBe5Lws8lYgW"
      },
      "outputs": [],
      "source": [
        "# TEST CASES for Question 1\n",
        "\n",
        "assert len(linking_attack(['Zip'])) == 43191\n",
        "assert len(linking_attack(['Zip', 'DOB'])) == 32563\n",
        "assert len(linking_attack(['Zip', 'Age'])) == 32755"
      ]
    },
    {
      "cell_type": "markdown",
      "metadata": {
        "id": "lpAoHeB8lYgX"
      },
      "source": [
        "## Question 2 (5 points)\n",
        "\n",
        "How many individuals in this dataset are uniquely identified by their Zip code? How many are uniquely identified by their age?\n",
        "\n",
        "Hint: note that the number of *unique ZIP codes* is **different** from the number of *individuals uniquely identified by ZIP code*.\n",
        "\n",
        "Hint: you can use the `value_counts` method to count the number of occurences of each value in a series."
      ]
    },
    {
      "cell_type": "code",
      "execution_count": 57,
      "metadata": {
        "deletable": false,
        "nbgrader": {
          "cell_type": "code",
          "checksum": "9733ff7d940158fb81a39ca36af422e7",
          "grade": false,
          "grade_id": "cell-0e380ac68dd0c77e",
          "locked": false,
          "schema_version": 3,
          "solution": true,
          "task": false
        },
        "id": "8Zo2LCW1lYgX"
      },
      "outputs": [],
      "source": [
        "def unique_zipcode():\n",
        "    a= adult['Zip'].value_counts()\n",
        "    num= len(a[a == 1])\n",
        "    return num\n",
        "\n",
        "def unique_dob():\n",
        "   a=adult['DOB'].value_counts()\n",
        "   num= len(a[a == 1])\n",
        "   return num\n"
      ]
    },
    {
      "cell_type": "code",
      "execution_count": 58,
      "metadata": {
        "deletable": false,
        "editable": false,
        "nbgrader": {
          "cell_type": "code",
          "checksum": "421e414115ab089d6098fe0ea29dcfa0",
          "grade": true,
          "grade_id": "cell-9b009427c61dbb2b",
          "locked": true,
          "points": 5,
          "schema_version": 3,
          "solution": false,
          "task": false
        },
        "id": "-QkFBXrNlYgY"
      },
      "outputs": [],
      "source": [
        "# TEST CASES (INCOMPLETE) for Question 2\n",
        "\n",
        "assert unique_zipcode() > 0\n",
        "assert unique_dob() > 0\n"
      ]
    },
    {
      "cell_type": "markdown",
      "metadata": {
        "id": "AbFW4AWWlYgY"
      },
      "source": [
        "## Question 3 (10 points)\n",
        "\n",
        "Write code to determine the `Education-Num` of the individual named Ardyce Golby by performing a differencing attack. Your code should *only* use aggregate data to find Ardyce's education number."
      ]
    },
    {
      "cell_type": "code",
      "execution_count": 73,
      "metadata": {
        "deletable": false,
        "nbgrader": {
          "cell_type": "code",
          "checksum": "8df97903495b1e9b1994064fef277bdd",
          "grade": false,
          "grade_id": "cell-ef28e136429ae8c2",
          "locked": false,
          "schema_version": 3,
          "solution": true,
          "task": false
        },
        "id": "SMIgoCbFlYgY"
      },
      "outputs": [],
      "source": [
        "def ardyce_education():\n",
        "     a=adult[adult['Name'] != 'Ardyce Golby']['Education-Num'].sum()\n",
        "     #we want the eduction-num\n",
        "     b=adult['Education-Num'].sum()\n",
        "     return b-a"
      ]
    },
    {
      "cell_type": "code",
      "execution_count": 74,
      "metadata": {
        "deletable": false,
        "editable": false,
        "nbgrader": {
          "cell_type": "code",
          "checksum": "8da4b59a750fee877ac13ca81e692791",
          "grade": true,
          "grade_id": "cell-d06fb722893a39a5",
          "locked": true,
          "points": 10,
          "schema_version": 3,
          "solution": false,
          "task": false
        },
        "id": "h63v5tLglYgZ"
      },
      "outputs": [],
      "source": [
        "# TEST CASE for Question 3\n",
        "assert ardyce_education() == 12"
      ]
    }
  ],
  "metadata": {
    "kernelspec": {
      "display_name": "Python 3 (ipykernel)",
      "language": "python",
      "name": "python3"
    },
    "language_info": {
      "codemirror_mode": {
        "name": "ipython",
        "version": 3
      },
      "file_extension": ".py",
      "mimetype": "text/x-python",
      "name": "python",
      "nbconvert_exporter": "python",
      "pygments_lexer": "ipython3",
      "version": "3.8.11"
    },
    "colab": {
      "provenance": [],
      "include_colab_link": true
    }
  },
  "nbformat": 4,
  "nbformat_minor": 0
}
